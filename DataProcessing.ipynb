{
 "cells": [
  {
   "cell_type": "markdown",
   "metadata": {},
   "source": [
    "## 找出 cost 最低的一天"
   ]
  },
  {
   "cell_type": "code",
   "execution_count": 18,
   "metadata": {},
   "outputs": [
    {
     "data": {
      "text/plain": [
       "True"
      ]
     },
     "execution_count": 18,
     "metadata": {},
     "output_type": "execute_result"
    }
   ],
   "source": [
    "import pandas as pd\n",
    "import matplotlib.pyplot as plt\n",
    "from datetime import datetime\n",
    "import warnings\n",
    "from dotenv import load_dotenv\n",
    "import seaborn as sns\n",
    "from datetime import time\n",
    "import pandas as pd\n",
    "from collections import defaultdict\n",
    "import json\n",
    "warnings.filterwarnings('ignore')\n",
    "load_dotenv()"
   ]
  },
  {
   "cell_type": "markdown",
   "metadata": {},
   "source": [
    "## Real Time Price"
   ]
  },
  {
   "cell_type": "code",
   "execution_count": 3,
   "metadata": {},
   "outputs": [
    {
     "data": {
      "text/html": [
       "<div>\n",
       "<style scoped>\n",
       "    .dataframe tbody tr th:only-of-type {\n",
       "        vertical-align: middle;\n",
       "    }\n",
       "\n",
       "    .dataframe tbody tr th {\n",
       "        vertical-align: top;\n",
       "    }\n",
       "\n",
       "    .dataframe thead th {\n",
       "        text-align: right;\n",
       "    }\n",
       "</style>\n",
       "<table border=\"1\" class=\"dataframe\">\n",
       "  <thead>\n",
       "    <tr style=\"text-align: right;\">\n",
       "      <th></th>\n",
       "      <th>datetime</th>\n",
       "      <th>average_price</th>\n",
       "    </tr>\n",
       "  </thead>\n",
       "  <tbody>\n",
       "    <tr>\n",
       "      <th>1487</th>\n",
       "      <td>2018-09-01 00:00:00</td>\n",
       "      <td>0.021917</td>\n",
       "    </tr>\n",
       "    <tr>\n",
       "      <th>1488</th>\n",
       "      <td>2018-09-01 01:00:00</td>\n",
       "      <td>0.020750</td>\n",
       "    </tr>\n",
       "    <tr>\n",
       "      <th>1489</th>\n",
       "      <td>2018-09-01 02:00:00</td>\n",
       "      <td>0.020083</td>\n",
       "    </tr>\n",
       "    <tr>\n",
       "      <th>1490</th>\n",
       "      <td>2018-09-01 03:00:00</td>\n",
       "      <td>0.020000</td>\n",
       "    </tr>\n",
       "    <tr>\n",
       "      <th>1491</th>\n",
       "      <td>2018-09-01 04:00:00</td>\n",
       "      <td>0.019917</td>\n",
       "    </tr>\n",
       "    <tr>\n",
       "      <th>...</th>\n",
       "      <td>...</td>\n",
       "      <td>...</td>\n",
       "    </tr>\n",
       "    <tr>\n",
       "      <th>2179</th>\n",
       "      <td>2018-09-29 20:00:00</td>\n",
       "      <td>0.014333</td>\n",
       "    </tr>\n",
       "    <tr>\n",
       "      <th>2180</th>\n",
       "      <td>2018-09-29 21:00:00</td>\n",
       "      <td>0.016333</td>\n",
       "    </tr>\n",
       "    <tr>\n",
       "      <th>2181</th>\n",
       "      <td>2018-09-29 22:00:00</td>\n",
       "      <td>0.018583</td>\n",
       "    </tr>\n",
       "    <tr>\n",
       "      <th>2182</th>\n",
       "      <td>2018-09-29 23:00:00</td>\n",
       "      <td>0.012750</td>\n",
       "    </tr>\n",
       "    <tr>\n",
       "      <th>2183</th>\n",
       "      <td>2018-09-30 00:00:00</td>\n",
       "      <td>0.021750</td>\n",
       "    </tr>\n",
       "  </tbody>\n",
       "</table>\n",
       "<p>697 rows × 2 columns</p>\n",
       "</div>"
      ],
      "text/plain": [
       "                datetime  average_price\n",
       "1487 2018-09-01 00:00:00       0.021917\n",
       "1488 2018-09-01 01:00:00       0.020750\n",
       "1489 2018-09-01 02:00:00       0.020083\n",
       "1490 2018-09-01 03:00:00       0.020000\n",
       "1491 2018-09-01 04:00:00       0.019917\n",
       "...                  ...            ...\n",
       "2179 2018-09-29 20:00:00       0.014333\n",
       "2180 2018-09-29 21:00:00       0.016333\n",
       "2181 2018-09-29 22:00:00       0.018583\n",
       "2182 2018-09-29 23:00:00       0.012750\n",
       "2183 2018-09-30 00:00:00       0.021750\n",
       "\n",
       "[697 rows x 2 columns]"
      ]
     },
     "execution_count": 3,
     "metadata": {},
     "output_type": "execute_result"
    }
   ],
   "source": [
    "# set start and end datetime\n",
    "start_datetime_str = '2018-09-01'\n",
    "end_datetime_str = '2018-09-30'\n",
    "\n",
    "# convert string to datetime\n",
    "start_datetime = datetime.strptime(start_datetime_str, '%Y-%m-%d')\n",
    "end_datetime = datetime.strptime(end_datetime_str, '%Y-%m-%d')\n",
    "\n",
    "\n",
    "def set_real_time_price_range(real_time_price, start_time: datetime, end_time: datetime):\n",
    "    real_time_price = real_time_price[(real_time_price['datetime'] >= start_time) & (real_time_price['datetime'] <= end_time)].copy()\n",
    "    real_time_price.sort_values(by='datetime', inplace=True)\n",
    "    return real_time_price\n",
    "\n",
    "# get real time price data\n",
    "real_time_price = pd.read_csv('./Dataset/RTP/electricity_prices_from_201807010000_to_201812312359.csv')\n",
    "real_time_price['datetime'] = pd.to_datetime(real_time_price['datetime'])\n",
    "real_time_price = set_real_time_price_range(real_time_price, start_datetime, end_datetime)\n",
    "real_time_price"
   ]
  },
  {
   "cell_type": "code",
   "execution_count": 17,
   "metadata": {},
   "outputs": [
    {
     "name": "stdout",
     "output_type": "stream",
     "text": [
      "Daily Total Costs:\n",
      "current_time\n",
      "2018-09-01     92.226388\n",
      "2018-09-02     76.135549\n",
      "2018-09-03    219.026167\n",
      "2018-09-04    236.593428\n",
      "2018-09-05    211.340363\n",
      "2018-09-06    189.061890\n",
      "2018-09-07    194.063132\n",
      "2018-09-08     78.500589\n",
      "2018-09-09     52.943404\n",
      "2018-09-10    162.144867\n",
      "2018-09-11    211.629844\n",
      "2018-09-12    305.061272\n",
      "2018-09-13    295.989103\n",
      "2018-09-14    330.223870\n",
      "2018-09-15    180.016851\n",
      "2018-09-16    112.130866\n",
      "2018-09-17    406.911663\n",
      "2018-09-18    242.438920\n",
      "2018-09-19    369.605702\n",
      "2018-09-20    352.727439\n",
      "2018-09-21    173.457115\n",
      "2018-09-22     53.994374\n",
      "2018-09-23     77.912515\n",
      "2018-09-24    215.045088\n",
      "2018-09-25    235.265541\n",
      "2018-09-26    186.767146\n",
      "2018-09-27    174.543880\n",
      "2018-09-28    189.022710\n",
      "2018-09-29     56.155220\n",
      "2018-09-30     48.907654\n",
      "Name: cost, dtype: float64\n",
      "\n",
      "Day with the lowest total cost: 2018-09-30 with a total cost of 48.90765352767561\n"
     ]
    }
   ],
   "source": [
    "# Load your data from CSV files\n",
    "data = pd.read_csv('./Result/GB-MARL-v2.1_alpha0.5_beta0.1_num10_s1/23/test_building_loading_history.csv')\n",
    "prices = pd.read_csv('./Dataset/RTP/electricity_prices_from_201807010000_to_201812312359.csv')\n",
    "\n",
    "# Convert the time columns to datetime format\n",
    "data['current_time'] = pd.to_datetime(data['current_time'])\n",
    "prices['time'] = pd.to_datetime(prices['datetime'])\n",
    "\n",
    "# # Merge the data and price files based on time\n",
    "merged_data = pd.merge_asof(data.sort_values('current_time'), prices.sort_values('time'), \n",
    "                            left_on='current_time', right_on='time', direction='backward')\n",
    "\n",
    "# # Calculate the cost for each time period\n",
    "merged_data['cost'] = merged_data['total_load'] * merged_data['average_price']\n",
    "\n",
    "# # Group by day and calculate total daily cost\n",
    "daily_cost = merged_data.groupby(merged_data['current_time'].dt.date)['cost'].sum()\n",
    "\n",
    "# # Find the day with the lowest total cost\n",
    "min_cost_day = daily_cost.idxmin()\n",
    "min_cost_value = daily_cost.min()\n",
    "\n",
    "# # Print the daily total costs\n",
    "print(\"Daily Total Costs:\")\n",
    "print(daily_cost)\n",
    "\n",
    "# # Print the day with the lowest total cost\n",
    "print(f\"\\nDay with the lowest total cost: {min_cost_day} with a total cost of {min_cost_value}\")"
   ]
  },
  {
   "cell_type": "code",
   "execution_count": 42,
   "metadata": {},
   "outputs": [
    {
     "name": "stdout",
     "output_type": "stream",
     "text": [
      "Output saved to ./Result/GB-MARL-v2.1_alpha0.5_beta0.1_num10_s1/23/output_0930.json\n"
     ]
    }
   ],
   "source": [
    "\n",
    "# Load the data\n",
    "data = pd.read_csv('./Result/GB-MARL-v2.1_alpha0.5_beta0.1_num10_s1/23/test_building_loading_history.csv')\n",
    "soc_data = pd.read_csv('./Result/GB-MARL-v2.1_alpha0.5_beta0.1_num10_s1/23/test_soc_history.csv')\n",
    "\n",
    "# Convert the time columns to datetime format\n",
    "data['current_time'] = pd.to_datetime(data['current_time'])\n",
    "soc_data['timestamp'] = pd.to_datetime(soc_data['current_time'])\n",
    "\n",
    "# Filter the data for 9/30\n",
    "date_str = '2018-09-30'\n",
    "data_0930 = data[data['current_time'].dt.date == pd.to_datetime(date_str).date()]\n",
    "soc_data_0930 = soc_data[soc_data['timestamp'].dt.date == pd.to_datetime(date_str).date()]\n",
    "\n",
    "# Initialize the dictionary to store the output\n",
    "output = defaultdict(dict)\n",
    "\n",
    "# Create a mapping of requestID to EV names\n",
    "request_to_ev = {f\"2018093000{i}\": f\"EV{i}\" for i in range(1, 11)}\n",
    "\n",
    "# Loop through each hour and fill in the values\n",
    "for index, row in data_0930.iterrows():\n",
    "    hour = row['current_time'].strftime('%H:%M')\n",
    "    output[hour][\"price\"] = prices[prices['time'] == row['current_time']]['average_price'].values[0]\n",
    "    output[hour][\"total_EV_consumption\"] = row['total_action_impact']\n",
    "    output[hour][\"building_consumption\"] = row['original_load']\n",
    "    \n",
    "    ev_soc = {}\n",
    "    for _, soc_row in soc_data_0930[soc_data_0930['timestamp'] == row['current_time']].iterrows():\n",
    "        ev_name = request_to_ev.get(str(soc_row['requestID']), None)\n",
    "        if ev_name:\n",
    "            ev_soc[ev_name] = soc_row['soc']\n",
    "    \n",
    "    output[hour][\"EV_detail_SoC\"] = ev_soc\n",
    "\n",
    "# Convert the dictionary to a JSON-like format and print the result\n",
    "formatted_output = json.dumps(output, indent=4)\n",
    "\n",
    "# Save the formatted output to a JSON file\n",
    "with open('./Result/GB-MARL-v2.1_alpha0.5_beta0.1_num10_s1/23/output_0930.json', 'w') as json_file:\n",
    "    json_file.write(formatted_output)\n",
    "\n",
    "print(\"Output saved to ./Result/GB-MARL-v2.1_alpha0.5_beta0.1_num10_s1/23/output_0930.json\")"
   ]
  },
  {
   "cell_type": "code",
   "execution_count": null,
   "metadata": {},
   "outputs": [],
   "source": []
  }
 ],
 "metadata": {
  "kernelspec": {
   "display_name": "my_work",
   "language": "python",
   "name": "python3"
  },
  "language_info": {
   "codemirror_mode": {
    "name": "ipython",
    "version": 3
   },
   "file_extension": ".py",
   "mimetype": "text/x-python",
   "name": "python",
   "nbconvert_exporter": "python",
   "pygments_lexer": "ipython3",
   "version": "3.10.12"
  }
 },
 "nbformat": 4,
 "nbformat_minor": 2
}
