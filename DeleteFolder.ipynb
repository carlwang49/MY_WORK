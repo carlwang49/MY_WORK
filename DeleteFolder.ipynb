{
 "cells": [
  {
   "cell_type": "code",
   "execution_count": 26,
   "metadata": {},
   "outputs": [
    {
     "name": "stdout",
     "output_type": "stream",
     "text": [
      "Deleted folder: ./Result/Unschedule/1\n",
      "Deleted folder: ./Result/Unschedule/2\n",
      "Deleted folder: ./Result/Unschedule/3\n",
      "Deleted folder: ./Result/Unschedule/4\n",
      "Deleted folder: ./Result/Unschedule/5\n",
      "Deleted folder: ./Result/Unschedule/6\n",
      "Deleted folder: ./Result/Unschedule/7\n",
      "Deleted folder: ./Result/Unschedule/8\n",
      "Deleted folder: ./Result/Unschedule/9\n",
      "Deleted folder: ./Result/Unschedule/10\n",
      "Deleted folder: ./Result/Unschedule/11\n",
      "Deleted folder: ./Result/Unschedule/12\n"
     ]
    }
   ],
   "source": [
    "# import os\n",
    "# import shutil\n",
    "\n",
    "# # 指定資料夾的路徑\n",
    "# base_path = './Result/Unschedule/'\n",
    "\n",
    "# # 指定要刪除的資料夾範圍\n",
    "# start = 1\n",
    "# end = 12\n",
    "\n",
    "# # 遍歷並刪除資料夾\n",
    "# for i in range(start, end + 1):\n",
    "#     folder_path = os.path.join(base_path, str(i))\n",
    "#     if os.path.exists(folder_path):\n",
    "#         shutil.rmtree(folder_path)\n",
    "#         print(f\"Deleted folder: {folder_path}\")\n",
    "#     else:\n",
    "#         print(f\"Folder not found: {folder_path}\")\n"
   ]
  },
  {
   "cell_type": "code",
   "execution_count": null,
   "metadata": {},
   "outputs": [],
   "source": []
  }
 ],
 "metadata": {
  "kernelspec": {
   "display_name": "my_work",
   "language": "python",
   "name": "python3"
  },
  "language_info": {
   "codemirror_mode": {
    "name": "ipython",
    "version": 3
   },
   "file_extension": ".py",
   "mimetype": "text/x-python",
   "name": "python",
   "nbconvert_exporter": "python",
   "pygments_lexer": "ipython3",
   "version": "3.10.12"
  }
 },
 "nbformat": 4,
 "nbformat_minor": 2
}
