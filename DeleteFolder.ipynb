{
 "cells": [
  {
   "cell_type": "code",
   "execution_count": 2,
   "metadata": {},
   "outputs": [
    {
     "name": "stdout",
     "output_type": "stream",
     "text": [
      "Deleted folder: ./EVBuildingEnv/71\n",
      "Deleted folder: ./EVBuildingEnv/72\n",
      "Deleted folder: ./EVBuildingEnv/73\n",
      "Deleted folder: ./EVBuildingEnv/74\n",
      "Deleted folder: ./EVBuildingEnv/75\n",
      "Deleted folder: ./EVBuildingEnv/76\n",
      "Deleted folder: ./EVBuildingEnv/77\n",
      "Deleted folder: ./EVBuildingEnv/78\n",
      "Deleted folder: ./EVBuildingEnv/79\n",
      "Deleted folder: ./EVBuildingEnv/80\n",
      "Deleted folder: ./EVBuildingEnv/81\n",
      "Deleted folder: ./EVBuildingEnv/82\n",
      "Deleted folder: ./EVBuildingEnv/83\n",
      "Deleted folder: ./EVBuildingEnv/84\n",
      "Deleted folder: ./EVBuildingEnv/85\n",
      "Deleted folder: ./EVBuildingEnv/86\n",
      "Deleted folder: ./EVBuildingEnv/87\n",
      "Deleted folder: ./EVBuildingEnv/88\n",
      "Deleted folder: ./EVBuildingEnv/89\n",
      "Deleted folder: ./EVBuildingEnv/90\n",
      "Deleted folder: ./EVBuildingEnv/91\n",
      "Deleted folder: ./EVBuildingEnv/92\n",
      "Deleted folder: ./EVBuildingEnv/93\n",
      "Deleted folder: ./EVBuildingEnv/94\n",
      "Deleted folder: ./EVBuildingEnv/95\n",
      "Deleted folder: ./EVBuildingEnv/96\n",
      "Deleted folder: ./EVBuildingEnv/97\n",
      "Deleted folder: ./EVBuildingEnv/98\n"
     ]
    }
   ],
   "source": [
    "# import os\n",
    "# import shutil\n",
    "\n",
    "# # 指定資料夾的路徑\n",
    "# base_path = './EVBuildingEnv/'\n",
    "\n",
    "# # 指定要刪除的資料夾範圍\n",
    "# start = 71\n",
    "# end = 98\n",
    "\n",
    "# # 遍歷並刪除資料夾\n",
    "# for i in range(start, end + 1):\n",
    "#     folder_path = os.path.join(base_path, str(i))\n",
    "#     if os.path.exists(folder_path):\n",
    "#         shutil.rmtree(folder_path)\n",
    "#         print(f\"Deleted folder: {folder_path}\")\n",
    "#     else:\n",
    "#         print(f\"Folder not found: {folder_path}\")\n"
   ]
  },
  {
   "cell_type": "code",
   "execution_count": null,
   "metadata": {},
   "outputs": [],
   "source": []
  }
 ],
 "metadata": {
  "kernelspec": {
   "display_name": "my_work",
   "language": "python",
   "name": "python3"
  },
  "language_info": {
   "codemirror_mode": {
    "name": "ipython",
    "version": 3
   },
   "file_extension": ".py",
   "mimetype": "text/x-python",
   "name": "python",
   "nbconvert_exporter": "python",
   "pygments_lexer": "ipython3",
   "version": "3.10.12"
  }
 },
 "nbformat": 4,
 "nbformat_minor": 2
}
